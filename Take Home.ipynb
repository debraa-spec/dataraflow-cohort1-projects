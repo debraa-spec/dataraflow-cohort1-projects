{
 "cells": [
  {
   "cell_type": "markdown",
   "id": "3454a13a-2011-4df5-b872-f5cff3794998",
   "metadata": {},
   "source": [
    "## Task - Course 1 OOP\n",
    "\n",
    "1. When the class object is represented as a string, there is a method that controls what should be returned, which one?\n",
    "\n",
    "2. What is a correct syntax for deleting an object named person in Python?\n",
    "\n",
    "3. Create a class named MyClass:\n",
    "\n",
    "4. Create an object of MyClass called p1:\n",
    "\n",
    "5. Use the p1 object to print the value of x:\n",
    "\n",
    "6. What is the correct syntax to assign a \"init\" method to a class?\n",
    "\n",
    "7. Insert the missing parts to make the code return: John(36):\n"
   ]
  },
  {
   "cell_type": "code",
   "execution_count": null,
   "id": "5d96d81e",
   "metadata": {},
   "outputs": [],
   "source": [
    "1. The __str__() method."
   ]
  },
  {
   "cell_type": "markdown",
   "id": "512a7264",
   "metadata": {},
   "source": [
    "2. del person"
   ]
  },
  {
   "cell_type": "markdown",
   "id": "eba732ff",
   "metadata": {},
   "source": [
    "3. class MyClass:\n",
    "    pass"
   ]
  },
  {
   "cell_type": "markdown",
   "id": "8e0c09f3",
   "metadata": {},
   "source": [
    "4. p1 = MyClass()\n"
   ]
  },
  {
   "cell_type": "markdown",
   "id": "06d1e2eb",
   "metadata": {},
   "source": [
    "5. class MyClass:\n",
    "    x = 9\n",
    "\n",
    "p1 = MyClass()\n",
    "print(p1.x)"
   ]
  },
  {
   "cell_type": "markdown",
   "id": "f8a7195a",
   "metadata": {},
   "source": [
    "6. class MyClass:\n",
    "    def __init__(self, value):\n",
    "        self.value = value"
   ]
  },
  {
   "cell_type": "code",
   "execution_count": null,
   "id": "39445575",
   "metadata": {},
   "outputs": [],
   "source": [
    "class Person:\n",
    "    def __init__(self, name, age):\n",
    "        self.name = name\n",
    "        self.age = age\n",
    "\n",
    "    def __str__(self):\n",
    "        return f\"{self.name}({self.age})\"\n",
    "\n",
    "p1 = Person(\"John\", 36)\n",
    "print(p1)"
   ]
  },
  {
   "cell_type": "markdown",
   "id": "a3be48ff-9449-46e3-b5ac-bdf760daf5cc",
   "metadata": {},
   "source": [
    "## Solve Task For - Course 2 Below\n"
   ]
  },
  {
   "cell_type": "markdown",
   "id": "d326a6a5-abbc-43a9-ad2f-27059e531cf6",
   "metadata": {},
   "source": [
    "1. The correct keyword to use inside an empty class to avoid getting an error is pass."
   ]
  },
  {
   "cell_type": "markdown",
   "id": "1855be4b-7bc9-47b4-8d0e-1e2db2ee988c",
   "metadata": {},
   "source": [
    "2. To create a class named Student that will inherit properties and methods from a class named Person, the correct syntax is:"
   ]
  },
  {
   "cell_type": "code",
   "execution_count": null,
   "id": "ece94494",
   "metadata": {},
   "outputs": [],
   "source": [
    "class Student(Person):\n",
    "    pass"
   ]
  },
  {
   "cell_type": "markdown",
   "id": "45f5f898-3780-4825-b59e-d42446013b85",
   "metadata": {},
   "source": [
    "3. To execute the printname method of the object x, the correct syntax is:\n",
    "\n",
    "x.printname()\n"
   ]
  },
  {
   "cell_type": "code",
   "execution_count": null,
   "id": "4ac64268-9cda-414e-b66f-2ce605b43dcb",
   "metadata": {},
   "outputs": [],
   "source": [
    "# Base class\n",
    "class Animal:\n",
    "    def __init__(self, name, sound):\n",
    "        self.name = name\n",
    "        self.sound = sound\n",
    "\n",
    "    def make_sound(self):\n",
    "        print(self.sound)\n",
    "\n",
    "# Subclass Dog\n",
    "class Dog(Animal):\n",
    "    def __init__(self, name):\n",
    "        super().__init__(name, \"Woof!\")\n",
    "\n",
    "    def make_sound(self):\n",
    "        print(\"Woof!\")\n",
    "\n",
    "# Subclass Cat\n",
    "class Cat(Animal):\n",
    "    def __init__(self, name):\n",
    "        super().__init__(name, \"Meow!\")\n",
    "\n",
    "    def make_sound(self):\n",
    "        print(\"Meow!\")\n",
    "\n",
    "# Create objects\n",
    "dog = Dog(\"Buddy\")\n",
    "cat = Cat(\"Whiskers\")\n",
    "\n",
    "# Call their methods\n",
    "dog.make_sound()\n",
    "cat.make_sound()"
   ]
  },
  {
   "cell_type": "code",
   "execution_count": null,
   "id": "885ce34b",
   "metadata": {},
   "outputs": [],
   "source": [
    "import math\n",
    "\n",
    "# Base class\n",
    "class Shape:\n",
    "    def area(self):\n",
    "        raise NotImplementedError(\"Subclass must implement this method\")\n",
    "\n",
    "# Subclass Rectangle\n",
    "class Rectangle(Shape):\n",
    "    def __init__(self, width, height):\n",
    "        self.width = width\n",
    "        self.height = height\n",
    "\n",
    "    def area(self):\n",
    "        return self.width * self.height\n",
    "\n",
    "# Subclass Circle\n",
    "class Circle(Shape):\n",
    "    def __init__(self, radius):\n",
    "        self.radius = radius\n",
    "\n",
    "    def area(self):\n",
    "        return math.pi * (self.radius ** 2)\n",
    "\n",
    "# Instantiate and print areas\n",
    "rect = Rectangle(5, 10)\n",
    "circle = Circle(7)\n",
    "\n",
    "print(\"Rectangle area:\", rect.area())\n",
    "print(\"Circle area:\", circle.area())"
   ]
  },
  {
   "cell_type": "code",
   "execution_count": null,
   "id": "6500572c",
   "metadata": {},
   "outputs": [],
   "source": [
    "# Base class\n",
    "class BankAccount:\n",
    "    def __init__(self, owner, balance=0):\n",
    "        self.owner = owner\n",
    "        self.balance = balance\n",
    "\n",
    "    def deposit(self, amount):\n",
    "        self.balance += amount\n",
    "        print(f\"{amount} deposited. New balance: {self.balance}\")\n",
    "\n",
    "    def withdraw(self, amount):\n",
    "        if amount > self.balance:\n",
    "            print(\"Insufficient funds\")\n",
    "        else:\n",
    "            self.balance -= amount\n",
    "            print(f\"{amount} withdrawn. New balance: {self.balance}\")\n",
    "\n",
    "# Subclass\n",
    "class SavingsAccount(BankAccount):\n",
    "    def __init__(self, owner, balance=0, interest_rate=0.02):\n",
    "        super().__init__(owner, balance)\n",
    "        self.interest_rate = interest_rate\n",
    "\n",
    "    def add_interest(self):\n",
    "        interest = self.balance * self.interest_rate\n",
    "        self.balance += interest\n",
    "        print(f\"Interest added: {interest}. New balance: {self.balance}\")\n",
    "\n",
    "# Demonstration\n",
    "account = SavingsAccount(\"Alice\", 1000, 0.05)\n",
    "\n",
    "account.deposit(500)    \n",
    "account.withdraw(200)    \n",
    "account.add_interest()    "
   ]
  },
  {
   "cell_type": "code",
   "execution_count": null,
   "id": "f2ae715e",
   "metadata": {},
   "outputs": [],
   "source": [
    "# Base class\n",
    "class Vehicle:\n",
    "    def __init__(self, brand, model):\n",
    "        self.brand = brand\n",
    "        self.model = model\n",
    "\n",
    "    def display_info(self):\n",
    "        print(f\"Brand: {self.brand}, Model: {self.model}\")\n",
    "\n",
    "# Subclass Car\n",
    "class Car(Vehicle):\n",
    "    def __init__(self, brand, model, doors):\n",
    "        super().__init__(brand, model)\n",
    "        self.doors = doors\n",
    "\n",
    "    def display_info(self):\n",
    "        print(f\"Brand: {self.brand}, Model: {self.model}, Doors: {self.doors}\")\n",
    "\n",
    "# Subclass ElectricCar\n",
    "class ElectricCar(Car):\n",
    "    def __init__(self, brand, model, doors, battery_capacity):\n",
    "        super().__init__(brand, model, doors)\n",
    "        self.battery_capacity = battery_capacity\n",
    "\n",
    "    def display_info(self):\n",
    "        print(f\"Brand: {self.brand}, Model: {self.model}, Doors: {self.doors}, Battery: {self.battery_capacity} kWh\")\n",
    "\n",
    "# Create an ElectricCar object and call display_info()\n",
    "ecar = ElectricCar(\"Tesla\", \"Model S\", 4, 100)\n",
    "ecar.display_info()\n"
   ]
  },
  {
   "cell_type": "markdown",
   "id": "ac2d5e51-84fa-4f19-8c46-a993a5544c78",
   "metadata": {},
   "source": [
    "## Solve Task For - Course 3 Below\n"
   ]
  },
  {
   "cell_type": "markdown",
   "id": "8696cd2e-9ee5-465e-9721-be0553096890",
   "metadata": {},
   "source": [
    "1. The two methods that you have to implement when you create an iterator are __iter__() and __next__()."
   ]
  },
  {
   "cell_type": "markdown",
   "id": "28a71590-0d26-4da1-a681-84727aa03c3a",
   "metadata": {},
   "source": [
    "2. The statement that can be used to stop the iteration is StopIteration."
   ]
  },
  {
   "cell_type": "markdown",
   "id": "f3158932-3965-4f0b-b4c6-49797ed9cfed",
   "metadata": {},
   "source": [
    "3. True. Lists, tuples, dictionaries, and sets are all iterable objects because they can return an iterator that allows you to traverse through their elements one by one."
   ]
  },
  {
   "cell_type": "code",
   "execution_count": null,
   "id": "511e6ccb",
   "metadata": {},
   "outputs": [],
   "source": [
    "4. numbers = [10, 20, 30, 40, 50]\n",
    "\n",
    "# Convert list to iterator\n",
    "it = iter(numbers)\n",
    "\n",
    "while True:\n",
    "    try:\n",
    "        print(next(it))\n",
    "    except StopIteration:\n",
    "        print(\"End of iteration\")\n",
    "        break"
   ]
  },
  {
   "cell_type": "code",
   "execution_count": null,
   "id": "5384cb79",
   "metadata": {},
   "outputs": [],
   "source": [
    "class CountDown:\n",
    "    def __init__(self, n):\n",
    "        self.n = n\n",
    "\n",
    "    def __iter__(self):\n",
    "        return self\n",
    "\n",
    "    def __next__(self):\n",
    "        if self.n > 0:\n",
    "            current = self.n\n",
    "            self.n -= 1\n",
    "            return current\n",
    "        else:\n",
    "            raise StopIteration\n",
    "\n",
    "# Use in a for loop\n",
    "for num in CountDown(5):\n",
    "    print(num)"
   ]
  },
  {
   "cell_type": "code",
   "execution_count": null,
   "id": "93b8ced0",
   "metadata": {},
   "outputs": [
    {
     "name": "stdout",
     "output_type": "stream",
     "text": [
      "0\n",
      "2\n",
      "4\n",
      "6\n",
      "8\n",
      "10\n",
      "12\n",
      "14\n",
      "16\n",
      "18\n"
     ]
    }
   ],
   "source": [
    "class EvenNumbers:\n",
    "    def __init__(self):\n",
    "        self.num = 0\n",
    "\n",
    "    def __iter__(self):\n",
    "        return self\n",
    "\n",
    "    def __next__(self):\n",
    "        current = self.num\n",
    "        self.num += 2\n",
    "        return current\n",
    "\n",
    "evens = EvenNumbers()\n",
    "count = 0\n",
    "\n",
    "for num in evens:\n",
    "    if count == 10:\n",
    "        break\n",
    "    print(num)\n",
    "    count += 1"
   ]
  },
  {
   "cell_type": "code",
   "execution_count": 3,
   "id": "0d6a56a3",
   "metadata": {},
   "outputs": [
    {
     "ename": "FileNotFoundError",
     "evalue": "[Errno 2] No such file or directory: 'sample.txt'",
     "output_type": "error",
     "traceback": [
      "\u001b[31m---------------------------------------------------------------------------\u001b[39m",
      "\u001b[31mFileNotFoundError\u001b[39m                         Traceback (most recent call last)",
      "\u001b[36mCell\u001b[39m\u001b[36m \u001b[39m\u001b[32mIn[3]\u001b[39m\u001b[32m, line 17\u001b[39m\n\u001b[32m     14\u001b[39m             \u001b[38;5;28;01mraise\u001b[39;00m \u001b[38;5;167;01mStopIteration\u001b[39;00m\n\u001b[32m     16\u001b[39m \u001b[38;5;66;03m# Test with a sample file\u001b[39;00m\n\u001b[32m---> \u001b[39m\u001b[32m17\u001b[39m reader = \u001b[43mFileLineReader\u001b[49m\u001b[43m(\u001b[49m\u001b[33;43m\"\u001b[39;49m\u001b[33;43msample.txt\u001b[39;49m\u001b[33;43m\"\u001b[39;49m\u001b[43m)\u001b[49m\n\u001b[32m     19\u001b[39m \u001b[38;5;28;01mfor\u001b[39;00m line \u001b[38;5;129;01min\u001b[39;00m reader:\n\u001b[32m     20\u001b[39m     \u001b[38;5;28mprint\u001b[39m(line)\n",
      "\u001b[36mCell\u001b[39m\u001b[36m \u001b[39m\u001b[32mIn[3]\u001b[39m\u001b[32m, line 3\u001b[39m, in \u001b[36mFileLineReader.__init__\u001b[39m\u001b[34m(self, filename)\u001b[39m\n\u001b[32m      2\u001b[39m \u001b[38;5;28;01mdef\u001b[39;00m\u001b[38;5;250m \u001b[39m\u001b[34m__init__\u001b[39m(\u001b[38;5;28mself\u001b[39m, filename):\n\u001b[32m----> \u001b[39m\u001b[32m3\u001b[39m     \u001b[38;5;28mself\u001b[39m.file = \u001b[38;5;28;43mopen\u001b[39;49m\u001b[43m(\u001b[49m\u001b[43mfilename\u001b[49m\u001b[43m,\u001b[49m\u001b[43m \u001b[49m\u001b[33;43m\"\u001b[39;49m\u001b[33;43mr\u001b[39;49m\u001b[33;43m\"\u001b[39;49m\u001b[43m)\u001b[49m\n",
      "\u001b[36mFile \u001b[39m\u001b[32m~\\AppData\\Roaming\\Python\\Python313\\site-packages\\IPython\\core\\interactiveshell.py:343\u001b[39m, in \u001b[36m_modified_open\u001b[39m\u001b[34m(file, *args, **kwargs)\u001b[39m\n\u001b[32m    336\u001b[39m \u001b[38;5;28;01mif\u001b[39;00m file \u001b[38;5;129;01min\u001b[39;00m {\u001b[32m0\u001b[39m, \u001b[32m1\u001b[39m, \u001b[32m2\u001b[39m}:\n\u001b[32m    337\u001b[39m     \u001b[38;5;28;01mraise\u001b[39;00m \u001b[38;5;167;01mValueError\u001b[39;00m(\n\u001b[32m    338\u001b[39m         \u001b[33mf\u001b[39m\u001b[33m\"\u001b[39m\u001b[33mIPython won\u001b[39m\u001b[33m'\u001b[39m\u001b[33mt let you open fd=\u001b[39m\u001b[38;5;132;01m{\u001b[39;00mfile\u001b[38;5;132;01m}\u001b[39;00m\u001b[33m by default \u001b[39m\u001b[33m\"\u001b[39m\n\u001b[32m    339\u001b[39m         \u001b[33m\"\u001b[39m\u001b[33mas it is likely to crash IPython. If you know what you are doing, \u001b[39m\u001b[33m\"\u001b[39m\n\u001b[32m    340\u001b[39m         \u001b[33m\"\u001b[39m\u001b[33myou can use builtins\u001b[39m\u001b[33m'\u001b[39m\u001b[33m open.\u001b[39m\u001b[33m\"\u001b[39m\n\u001b[32m    341\u001b[39m     )\n\u001b[32m--> \u001b[39m\u001b[32m343\u001b[39m \u001b[38;5;28;01mreturn\u001b[39;00m \u001b[43mio_open\u001b[49m\u001b[43m(\u001b[49m\u001b[43mfile\u001b[49m\u001b[43m,\u001b[49m\u001b[43m \u001b[49m\u001b[43m*\u001b[49m\u001b[43margs\u001b[49m\u001b[43m,\u001b[49m\u001b[43m \u001b[49m\u001b[43m*\u001b[49m\u001b[43m*\u001b[49m\u001b[43mkwargs\u001b[49m\u001b[43m)\u001b[49m\n",
      "\u001b[31mFileNotFoundError\u001b[39m: [Errno 2] No such file or directory: 'sample.txt'"
     ]
    }
   ],
   "source": [
    "class FileLineReader:\n",
    "    def __init__(self, filename):\n",
    "        self.file = open(filename, \"r\")\n",
    "\n",
    "    def __iter__(self):\n",
    "        return self\n",
    "\n",
    "    def __next__(self):\n",
    "        line = self.file.readline()\n",
    "        if line:\n",
    "            return line.strip()\n",
    "        else:\n",
    "            self.file.close()\n",
    "            raise StopIteration\n",
    "\n",
    "# Test with a sample file\n",
    "reader = FileLineReader(\"sample.txt\")\n",
    "\n",
    "for line in reader:\n",
    "    print(line)"
   ]
  },
  {
   "cell_type": "markdown",
   "id": "0ba7d285-9381-4bde-b59e-7b22ad7f1009",
   "metadata": {},
   "source": [
    "## Solve Task For - Course 4 Below\n"
   ]
  },
  {
   "cell_type": "markdown",
   "id": "a9330620-ce97-439e-8fc5-f342644641de",
   "metadata": {},
   "source": [
    "1. False. Different objects can indeed have methods with the same name."
   ]
  },
  {
   "cell_type": "markdown",
   "id": "2be196cb-09ce-4910-85a7-da48027c3d75",
   "metadata": {},
   "source": [
    "2. False. Polymorphism in Python allows methods with the same name (across different objects) to not only have different content (implementation) but also to return different data types. There is no restriction that the return type must be the same."
   ]
  },
  {
   "cell_type": "code",
   "execution_count": 2,
   "id": "c548effd",
   "metadata": {},
   "outputs": [
    {
     "name": "stdout",
     "output_type": "stream",
     "text": [
      "Car drives\n",
      "Bicycle pedals\n"
     ]
    }
   ],
   "source": [
    "class Car:\n",
    "    def move(self):\n",
    "        print(\"Car drives\")\n",
    "\n",
    "class Bicycle:\n",
    "    def move(self):\n",
    "        print(\"Bicycle pedals\")\n",
    "\n",
    "car1 = Car()\n",
    "bike1 = Bicycle()\n",
    "\n",
    "vehicles = [car1, bike1]\n",
    "\n",
    "for v in vehicles:\n",
    "    v.move()"
   ]
  },
  {
   "cell_type": "code",
   "execution_count": 5,
   "id": "534942ba",
   "metadata": {},
   "outputs": [
    {
     "name": "stdout",
     "output_type": "stream",
     "text": [
      "Squawk\n",
      "Caw\n"
     ]
    }
   ],
   "source": [
    "class Bird:\n",
    "    def speak(self):\n",
    "        print(\"Chirp\")\n",
    "\n",
    "class Parrot(Bird):\n",
    "    def speak(self):\n",
    "        print(\"Squawk\")\n",
    "\n",
    "class Crow(Bird):\n",
    "    def speak(self):\n",
    "        print(\"Caw\")\n",
    "\n",
    "def make_bird_speak(bird: Bird):\n",
    "    bird.speak()\n",
    "\n",
    "parrot = Parrot()\n",
    "crow = Crow()\n",
    "\n",
    "make_bird_speak(parrot) \n",
    "make_bird_speak(crow)"
   ]
  },
  {
   "cell_type": "code",
   "execution_count": 6,
   "id": "18b564e9-4cd3-484b-b878-40ca773334da",
   "metadata": {},
   "outputs": [
    {
     "name": "stdout",
     "output_type": "stream",
     "text": [
      "11\n",
      "4\n",
      "3\n"
     ]
    }
   ],
   "source": [
    "# String\n",
    "text = \"Hello World\"\n",
    "print(len(text))  \n",
    "\n",
    "# List\n",
    "numbers = [10, 20, 30, 40]\n",
    "print(len(numbers))  \n",
    "\n",
    "# Dictionary\n",
    "student = {\"name\": \"Alice\", \"age\": 22, \"course\": \"Math\"}\n",
    "print(len(student))  "
   ]
  },
  {
   "cell_type": "markdown",
   "id": "49b2fe1c",
   "metadata": {},
   "source": [
    "The reason why the built-in len() function works is because it's polymorphic, hence it can work with different data types.\n",
    "\n",
    "For a string, len() returns the number of characters.\n",
    "For a list, len() returns the number of items in the list.\n",
    "For a dictionary, len() returns the number of key-value pairs."
   ]
  },
  {
   "cell_type": "code",
   "execution_count": 8,
   "id": "d9b6604d",
   "metadata": {},
   "outputs": [
    {
     "name": "stdout",
     "output_type": "stream",
     "text": [
      "Area: 40.00\n",
      "Area: 78.54\n",
      "Area: 12.00\n"
     ]
    }
   ],
   "source": [
    "from abc import ABC, abstractmethod\n",
    "import math\n",
    "\n",
    "# Abstract class\n",
    "class Shape(ABC):\n",
    "    @abstractmethod\n",
    "    def area(self):\n",
    "        pass\n",
    "\n",
    "# Rectangle subclass\n",
    "class Rectangle(Shape):\n",
    "    def __init__(self, width, height):\n",
    "        self.width = width\n",
    "        self.height = height\n",
    "    \n",
    "    def area(self):\n",
    "        return self.width * self.height\n",
    "\n",
    "# Circle subclass\n",
    "class Circle(Shape):\n",
    "    def __init__(self, radius):\n",
    "        self.radius = radius\n",
    "    \n",
    "    def area(self):\n",
    "        return math.pi * (self.radius ** 2)\n",
    "\n",
    "# Create a list of shapes\n",
    "shapes = [Rectangle(4, 10), Circle(5), Rectangle(3, 4)]\n",
    "\n",
    "# Loop through shapes and print their areas\n",
    "for shape in shapes:\n",
    "    print(f\"Area: {shape.area():.2f}\")"
   ]
  },
  {
   "cell_type": "markdown",
   "id": "ba406563-3dfa-4a59-b736-ab6ad41412bb",
   "metadata": {},
   "source": [
    "## Solve Task For - Course 5 Below\n"
   ]
  },
  {
   "cell_type": "code",
   "execution_count": 10,
   "id": "c1e7ec08-4f4d-48d3-918c-ea060cd5479c",
   "metadata": {},
   "outputs": [
    {
     "name": "stdout",
     "output_type": "stream",
     "text": [
      "300\n"
     ]
    }
   ],
   "source": [
    "x = 300\n",
    "def myfunc():\n",
    "  x = 200\n",
    "myfunc()\n",
    "print(x)\n",
    "\n",
    "# result is 300 because x is perceived a global variable\n"
   ]
  },
  {
   "cell_type": "code",
   "execution_count": 11,
   "id": "3e9aef1b-bfe8-4682-ad5b-e87f28a71dbb",
   "metadata": {},
   "outputs": [
    {
     "name": "stdout",
     "output_type": "stream",
     "text": [
      "200\n"
     ]
    }
   ],
   "source": [
    "x = 300\n",
    "def myfunc():\n",
    "  global x\n",
    "  x = 200\n",
    "myfunc()\n",
    "print(x)\n",
    "\n",
    "#the result is 200 because of the global-keyword which tells python not to create a new x variable."
   ]
  },
  {
   "cell_type": "code",
   "execution_count": 12,
   "id": "cc1e0f45-f3e1-49b3-8a73-3fba4385758c",
   "metadata": {},
   "outputs": [
    {
     "name": "stdout",
     "output_type": "stream",
     "text": [
      "Inside function, local count: 5\n",
      "Outside function, global count: 10\n"
     ]
    }
   ],
   "source": [
    "count = 10\n",
    "\n",
    "def increment():\n",
    "    count = 5\n",
    "    print(\"Inside function, local count:\", count)\n",
    "\n",
    "increment()\n",
    "\n",
    "print(\"Outside function, global count:\", count)"
   ]
  },
  {
   "cell_type": "code",
   "execution_count": 13,
   "id": "3a77279f-6e39-49ce-8495-edee8eda909a",
   "metadata": {},
   "outputs": [
    {
     "name": "stdout",
     "output_type": "stream",
     "text": [
      "Updated total inside function: 5\n",
      "Updated total inside function: 15\n",
      "Updated total inside function: 35\n",
      "Final total outside function: 35\n"
     ]
    }
   ],
   "source": [
    "total = 0\n",
    "\n",
    "def add_to_total(n):\n",
    "    global total\n",
    "    total += n\n",
    "    print(\"Updated total inside function:\", total)\n",
    "\n",
    "add_to_total(5)\n",
    "add_to_total(10)\n",
    "add_to_total(20)\n",
    "\n",
    "print(\"Final total outside function:\", total)"
   ]
  },
  {
   "cell_type": "code",
   "execution_count": 14,
   "id": "c728f1e7-4b24-4a0f-9a1a-a414343d2a1d",
   "metadata": {},
   "outputs": [
    {
     "name": "stdout",
     "output_type": "stream",
     "text": [
      "Updated message inside outer(): Hello from inner!\n"
     ]
    }
   ],
   "source": [
    "def outer():\n",
    "    message = \"Hi\"\n",
    "\n",
    "    def inner():\n",
    "        nonlocal message\n",
    "        message = \"Hello from inner!\"\n",
    "\n",
    "    inner()\n",
    "    print(\"Updated message inside outer():\", message)\n",
    "\n",
    "outer()"
   ]
  },
  {
   "cell_type": "code",
   "execution_count": null,
   "id": "120b6f03",
   "metadata": {},
   "outputs": [
    {
     "ename": "UnboundLocalError",
     "evalue": "cannot access local variable 'len' where it is not associated with a value",
     "output_type": "error",
     "traceback": [
      "\u001b[31m---------------------------------------------------------------------------\u001b[39m",
      "\u001b[31mUnboundLocalError\u001b[39m                         Traceback (most recent call last)",
      "\u001b[36mCell\u001b[39m\u001b[36m \u001b[39m\u001b[32mIn[15]\u001b[39m\u001b[32m, line 16\u001b[39m\n\u001b[32m     13\u001b[39m     \u001b[38;5;28;01mexcept\u001b[39;00m \u001b[38;5;167;01mTypeError\u001b[39;00m \u001b[38;5;28;01mas\u001b[39;00m e:\n\u001b[32m     14\u001b[39m         \u001b[38;5;28mprint\u001b[39m(\u001b[33m\"\u001b[39m\u001b[33mError occurred:\u001b[39m\u001b[33m\"\u001b[39m, e)\n\u001b[32m---> \u001b[39m\u001b[32m16\u001b[39m \u001b[43mshow_len_behavior\u001b[49m\u001b[43m(\u001b[49m\u001b[43m)\u001b[49m\n",
      "\u001b[36mCell\u001b[39m\u001b[36m \u001b[39m\u001b[32mIn[15]\u001b[39m\u001b[32m, line 4\u001b[39m, in \u001b[36mshow_len_behavior\u001b[39m\u001b[34m()\u001b[39m\n\u001b[32m      1\u001b[39m \u001b[38;5;28;01mdef\u001b[39;00m\u001b[38;5;250m \u001b[39m\u001b[34mshow_len_behavior\u001b[39m():\n\u001b[32m      2\u001b[39m     \u001b[38;5;66;03m# Call the built-in len() on a list\u001b[39;00m\n\u001b[32m      3\u001b[39m     mylist = [\u001b[32m1\u001b[39m, \u001b[32m2\u001b[39m, \u001b[32m3\u001b[39m, \u001b[32m4\u001b[39m]\n\u001b[32m----> \u001b[39m\u001b[32m4\u001b[39m     \u001b[38;5;28mprint\u001b[39m(\u001b[33m\"\u001b[39m\u001b[33mLength of list using built-in len():\u001b[39m\u001b[33m\"\u001b[39m, \u001b[38;5;28;43mlen\u001b[39;49m(mylist))\n\u001b[32m      6\u001b[39m     \u001b[38;5;66;03m# Create a local variable named len\u001b[39;00m\n\u001b[32m      7\u001b[39m     \u001b[38;5;28mlen\u001b[39m = \u001b[32m100\u001b[39m\n",
      "\u001b[31mUnboundLocalError\u001b[39m: cannot access local variable 'len' where it is not associated with a value"
     ]
    }
   ],
   "source": [
    "def show_len_behavior():\n",
    "    \n",
    "    mylist = [1, 2, 3, 4]\n",
    "    print(\"Length of list using built-in len():\", len(mylist))\n",
    "\n",
    "    len = 100\n",
    "    print(\"Local variable len:\", len)\n",
    "\n",
    "    try:\n",
    "        print(len(mylist))\n",
    "    except TypeError as e:\n",
    "        print(\"Error occurred:\", e)\n",
    "\n",
    "show_len_behavior()"
   ]
  },
  {
   "cell_type": "markdown",
   "id": "4fe2d77f-deb8-463d-b3da-a8e8ec10a60f",
   "metadata": {},
   "source": [
    "## Assignment & Assessment\n"
   ]
  },
  {
   "cell_type": "markdown",
   "id": "460fc961-1da0-4fb0-b779-721f3b7a1a96",
   "metadata": {},
   "source": [
    "Create a `Car` class with attributes `brand` and `model`. Instantiate two objects and print their details."
   ]
  },
  {
   "cell_type": "code",
   "execution_count": null,
   "id": "4af38b81-31f7-4016-ba5e-c94091738a4c",
   "metadata": {},
   "outputs": [],
   "source": [
    "class Car:\n",
    "    def __init__(self, brand, model):\n",
    "        self.brand = brand\n",
    "        self.model = model\n",
    "\n",
    "# Create objects\n",
    "car1 = Car(\"Toyota\", \"Corolla\")\n",
    "car2 = Car(\"Honda\", \"Civic\")\n",
    "\n",
    "# Print details\n",
    "print(\"Car 1:\", car1.brand, car1.model)\n",
    "print(\"Car 2:\", car2.brand, car2.model)"
   ]
  },
  {
   "cell_type": "markdown",
   "id": "c5be1979-7fb3-4e2c-98f2-2fe6cdeaa41d",
   "metadata": {},
   "source": [
    "Create a `Counter` class with a class variable to track total instances created. Print the count after making several objects."
   ]
  },
  {
   "cell_type": "code",
   "execution_count": null,
   "id": "fb7955d0-2d44-4222-bf58-cd790df54fb3",
   "metadata": {},
   "outputs": [],
   "source": [
    "class Counter:\n",
    "    count = 0\n",
    "\n",
    "    def __init__(self):\n",
    "        Counter.count += 1\n",
    "\n",
    "\n",
    "c1 = Counter()\n",
    "c2 = Counter()\n",
    "c3 = Counter()\n",
    "\n",
    "\n",
    "print(\"Total instances created:\", Counter.count)"
   ]
  },
  {
   "cell_type": "markdown",
   "id": "e47764fb-e6c3-4749-9f44-3ce2e5d35380",
   "metadata": {},
   "source": [
    "Create a parent class `Animal` with a method `speak()`. Create a child class `Dog` that overrides `speak()` to print `\"Woof!\"`"
   ]
  },
  {
   "cell_type": "code",
   "execution_count": null,
   "id": "3edebe43-0fed-4bcb-b3e8-ad15d5be6d6f",
   "metadata": {},
   "outputs": [],
   "source": [
    "class Animal:\n",
    "    def speak(self):\n",
    "        print(\"Animal makes a sound\")\n",
    "\n",
    "class Dog(Animal):\n",
    "    def speak(self):\n",
    "        print(\"Woof!\")\n",
    "\n",
    "a = Animal()\n",
    "a.speak()\n",
    "\n",
    "d = Dog()\n",
    "d.speak()"
   ]
  },
  {
   "cell_type": "markdown",
   "id": "088d4b69-a14c-4e1f-83fd-f8efcf7cae44",
   "metadata": {},
   "source": [
    "Create three classes: `LivingBeing`, `Animal`, and `Bird` where:  \n",
    "  \n",
    "- `LivingBeing` has `is_alive = True`.  \n",
    "- `Animal` inherits from `LivingBeing`.  \n",
    "- `Bird` inherits from `Animal` and has a `fly()` method.  \n",
    "  \n",
    "Instantiate `Bird` and demonstrate inherited attributes/methods.  "
   ]
  },
  {
   "cell_type": "code",
   "execution_count": 16,
   "id": "42e538c8-ba7c-4270-a8d3-c78a3706b065",
   "metadata": {},
   "outputs": [
    {
     "name": "stdout",
     "output_type": "stream",
     "text": [
      "Is sparrow alive? True\n",
      "I can fly!\n"
     ]
    }
   ],
   "source": [
    "class LivingBeing:\n",
    "    def __init__(self):\n",
    "        self.is_alive = True\n",
    "\n",
    "class Animal(LivingBeing):\n",
    "    def __init__(self):\n",
    "        super().__init__()\n",
    "\n",
    "class Bird(Animal):\n",
    "    def __init__(self):\n",
    "        super().__init__()\n",
    "\n",
    "    def fly(self):\n",
    "        print(\"I can fly!\")\n",
    "\n",
    "sparrow = Bird()\n",
    "\n",
    "print(\"Is sparrow alive?\", sparrow.is_alive)\n",
    "\n",
    "sparrow.fly()"
   ]
  },
  {
   "cell_type": "markdown",
   "id": "00891009-7382-4889-933a-acc23e6297f5",
   "metadata": {},
   "source": [
    "Create an iterator class `EvenNumbers` that takes a limit and iterates over even numbers only. Use it in a `for` loop."
   ]
  },
  {
   "cell_type": "code",
   "execution_count": 17,
   "id": "1fac8d66-8c68-463f-9bb6-6187471b8a72",
   "metadata": {},
   "outputs": [
    {
     "name": "stdout",
     "output_type": "stream",
     "text": [
      "0\n",
      "2\n",
      "4\n",
      "6\n",
      "8\n",
      "10\n"
     ]
    }
   ],
   "source": [
    "class EvenNumbers:\n",
    "    def __init__(self, limit):\n",
    "        self.limit = limit\n",
    "        self.current = 0  \n",
    "\n",
    "    def __iter__(self):\n",
    "        return self\n",
    "\n",
    "    def __next__(self):\n",
    "        if self.current > self.limit:\n",
    "            raise StopIteration\n",
    "        else:\n",
    "            num = self.current\n",
    "            self.current += 2 \n",
    "            return num\n",
    "\n",
    "for even in EvenNumbers(10):\n",
    "    print(even)"
   ]
  },
  {
   "cell_type": "markdown",
   "id": "2d93f64f-f327-4d85-8be1-c0b4a167be20",
   "metadata": {},
   "source": [
    "Create `Cat` and `Dog` classes, each with a `sound()` method returning `\"Meow\"` or `\"Woof\"`.  \n",
    "Write a function `animal_sound(animal)` that calls `.sound()` without knowing the class type.  "
   ]
  },
  {
   "cell_type": "code",
   "execution_count": 18,
   "id": "440c086a-b805-449f-b1c9-ac2d5f48c437",
   "metadata": {},
   "outputs": [
    {
     "name": "stdout",
     "output_type": "stream",
     "text": [
      "Meow\n",
      "Woof\n"
     ]
    }
   ],
   "source": [
    "class Cat:\n",
    "    def sound(self):\n",
    "        return \"Meow\"\n",
    "\n",
    "class Dog:\n",
    "    def sound(self):\n",
    "        return \"Woof\"\n",
    "\n",
    "def animal_sound(animal):\n",
    "    print(animal.sound())\n",
    "\n",
    "c = Cat()\n",
    "d = Dog()\n",
    "\n",
    "animal_sound(c)  \n",
    "animal_sound(d)  "
   ]
  },
  {
   "cell_type": "markdown",
   "id": "7cdd67dc-3336-426b-a4d9-4655688532a7",
   "metadata": {},
   "source": [
    "Write a program demonstrating:\n",
    "\n",
    "- a global variable modified inside a function\n",
    "\n",
    "- a nonlocal variable modified inside a nested function.\n"
   ]
  },
  {
   "cell_type": "code",
   "execution_count": 19,
   "id": "37e389ac-4ee5-4d1c-9112-1a824a67eaba",
   "metadata": {},
   "outputs": [
    {
     "name": "stdout",
     "output_type": "stream",
     "text": [
      "Before modify_global, count = 0\n",
      "Inside modify_global, count = 5\n",
      "After modify_global, count = 5\n",
      "\n",
      "Testing nonlocal keyword:\n",
      "Inside inner, message = Hi\n",
      "Inside outer after inner(), message = Hi\n"
     ]
    }
   ],
   "source": [
    "\n",
    "count = 0   # global variable\n",
    "\n",
    "def modify_global():\n",
    "    global count    \n",
    "    count += 5\n",
    "    print(\"Inside modify_global, count =\", count)\n",
    "\n",
    "def outer():\n",
    "    message = \"Hello\"   \n",
    "    \n",
    "    def inner():\n",
    "        nonlocal message  \n",
    "        message = \"Hi\"\n",
    "        print(\"Inside inner, message =\", message)\n",
    "    \n",
    "    inner()\n",
    "    print(\"Inside outer after inner(), message =\", message)\n",
    "\n",
    "\n",
    "print(\"Before modify_global, count =\", count)\n",
    "modify_global()\n",
    "print(\"After modify_global, count =\", count)\n",
    "\n",
    "print(\"\\nTesting nonlocal keyword:\")\n",
    "outer()"
   ]
  },
  {
   "cell_type": "markdown",
   "id": "2291f277-8833-41c5-80c5-01dae02f8889",
   "metadata": {},
   "source": [
    "Create two classes: `Flyer` (method `move()` returns `\"Flying\"`) and `Swimmer` (method `move()` returns `\"Swimming\"`).  \n",
    "Create a class `Duck` inheriting from both.  \n",
    "- Use `super()` to decide which `move()` executes.  \n",
    "- Explain the **Method Resolution Order (MRO)**.  "
   ]
  },
  {
   "cell_type": "code",
   "execution_count": 21,
   "id": "199863ab-926b-4c51-9307-f0e072f13987",
   "metadata": {},
   "outputs": [
    {
     "name": "stdout",
     "output_type": "stream",
     "text": [
      "Duck moves by: Flying\n",
      "MRO for Duck: (<class '__main__.Duck'>, <class '__main__.Flyer'>, <class '__main__.Swimmer'>, <class 'object'>)\n"
     ]
    }
   ],
   "source": [
    "class Flyer:\n",
    "    def move(self):\n",
    "        return \"Flying\"\n",
    "\n",
    "\n",
    "class Swimmer:\n",
    "    def move(self):\n",
    "        return \"Swimming\"\n",
    "\n",
    "\n",
    "class Duck(Flyer, Swimmer):  \n",
    "    def move(self):\n",
    "        return super().move()\n",
    "\n",
    "\n",
    "donald = Duck()\n",
    "print(\"Duck moves by:\", donald.move())\n",
    "\n",
    "print(\"MRO for Duck:\", Duck.__mro__)\n",
    "\n",
    "# The MRO is the order in which Python searches classes for attributes/methods."
   ]
  },
  {
   "cell_type": "markdown",
   "id": "273e9435-fc84-43c1-8ce0-a7f188548c3f",
   "metadata": {},
   "source": [
    "Create a class `Fibonacci` that generates Fibonacci numbers up to a given `n` using an iterator protocol."
   ]
  },
  {
   "cell_type": "code",
   "execution_count": 22,
   "id": "ccef7ddc-a777-4a56-af03-d36a238baf71",
   "metadata": {},
   "outputs": [
    {
     "name": "stdout",
     "output_type": "stream",
     "text": [
      "0 1 1 2 3 5 8 13 21 34 "
     ]
    }
   ],
   "source": [
    "class Fibonacci:\n",
    "    def __init__(self, n):\n",
    "        self.n = n         \n",
    "        self.a, self.b = 0, 1\n",
    "        self.count = 0\n",
    "\n",
    "    def __iter__(self):\n",
    "        return self\n",
    "\n",
    "    def __next__(self):\n",
    "        if self.count >= self.n:\n",
    "            raise StopIteration\n",
    "        value = self.a\n",
    "        self.a, self.b = self.b, self.a + self.b\n",
    "        self.count += 1\n",
    "        return value\n",
    "\n",
    "\n",
    "fib = Fibonacci(10)  \n",
    "for num in fib:\n",
    "    print(num, end=\" \")"
   ]
  },
  {
   "cell_type": "markdown",
   "id": "90c7acea-fece-4cbe-a0b5-73597da902db",
   "metadata": {},
   "source": [
    "Create classes `Rectangle`, `Circle`, and `Triangle`, each with an `area()` method.  \n",
    "- Store instances of these classes in a list.  \n",
    "- Write code that calculates the total area without checking object types.  "
   ]
  },
  {
   "cell_type": "code",
   "execution_count": 23,
   "id": "2ba24f5c",
   "metadata": {},
   "outputs": [
    {
     "name": "stdout",
     "output_type": "stream",
     "text": [
      "Total Area: 60.27433388230814\n"
     ]
    }
   ],
   "source": [
    "import math\n",
    "\n",
    "class Rectangle:\n",
    "    def __init__(self, width, height):\n",
    "        self.width = width\n",
    "        self.height = height\n",
    "\n",
    "    def area(self):\n",
    "        return self.width * self.height\n",
    "\n",
    "\n",
    "class Circle:\n",
    "    def __init__(self, radius):\n",
    "        self.radius = radius\n",
    "\n",
    "    def area(self):\n",
    "        return math.pi * (self.radius ** 2)\n",
    "\n",
    "\n",
    "class Triangle:\n",
    "    def __init__(self, base, height):\n",
    "        self.base = base\n",
    "        self.height = height\n",
    "\n",
    "    def area(self):\n",
    "        return 0.5 * self.base * self.height\n",
    "\n",
    "\n",
    "shapes = [\n",
    "    Rectangle(4, 5),\n",
    "    Circle(3),\n",
    "    Triangle(6, 4)\n",
    "]\n",
    "\n",
    "\n",
    "total_area = sum(shape.area() for shape in shapes)\n",
    "\n",
    "print(\"Total Area:\", total_area)"
   ]
  },
  {
   "cell_type": "markdown",
   "id": "e5fdab59-b32a-4b27-8d0b-68e06d696530",
   "metadata": {},
   "source": [
    "# Library Management System  \n",
    "  \n",
    "## Scenario  \n",
    "You are building a small library system to manage books, members, and borrowing operations. The system should support multiple types of books, track borrowed books, and allow iteration over members and books. The system should also demonstrate proper use of scopes and encapsulation.  \n",
    "  \n",
    "## Requirements and Concepts to Cover  \n",
    "  \n",
    "### 1. OOP & Inheritance  \n",
    "- Create a base class `Book` with attributes: `title`, `author`, `year`.  \n",
    "- Create subclasses:  \n",
    "  - `EBook` with `file_size` and `format`.  \n",
    "  - `PrintedBook` with `weight` and `dimensions`.  \n",
    "- Create a base class `Member` with `name` and `member_id`.  \n",
    "- Create subclasses:  \n",
    "  - `StudentMember` with `grade_level`.  \n",
    "  - `TeacherMember` with `department`.  \n",
    "  \n",
    "### 2. Polymorphism  \n",
    "- Define a method `get_description()` in `Book` and override it in both `EBook` and `PrintedBook`.  \n",
    "- Define a method `borrow_book()` in `Member` that behaves differently for `StudentMember` and `TeacherMember` (e.g., different borrowing limits).  \n",
    "  \n",
    "### 3. Iterators  \n",
    "- Implement an iterator for the `Library` class to iterate over all books.  \n",
    "- Implement an iterator for the `Member` class to iterate over borrowed books.  \n",
    "  \n",
    "### 4. Scope  \n",
    "- Use private and protected attributes to demonstrate scope:  \n",
    "  - `_borrowed_books` in `Member` (protected).  \n",
    "  - `__library_name` in `Library` (private).  \n",
    "- Provide getter and setter methods where appropriate to access private/protected attributes.  \n",
    "  \n",
    "### 5. Extra Features  \n",
    "- Track which books are available and which are borrowed.  \n",
    "- Allow searching books by title or author.  \n",
    "- Count the total number of books borrowed by all members (use a class-level variable).  "
   ]
  },
  {
   "cell_type": "code",
   "execution_count": null,
   "id": "a4619f28-9776-4304-ab69-06c4eb40a6e0",
   "metadata": {},
   "outputs": [],
   "source": []
  },
  {
   "cell_type": "markdown",
   "id": "72b78feb-d5a0-4f90-8089-dafd724fa1ed",
   "metadata": {},
   "source": [
    "### !!! Watch this video **https://www.youtube.com/watch?v=kQDxmjfkIKY** and share your learning in your own understanding and words in the **Weekly-class** channel"
   ]
  },
  {
   "cell_type": "code",
   "execution_count": null,
   "id": "613235a1-5bf9-4b2a-a998-f6a9cacc50f6",
   "metadata": {},
   "outputs": [],
   "source": []
  }
 ],
 "metadata": {
  "kernelspec": {
   "display_name": "base",
   "language": "python",
   "name": "python3"
  },
  "language_info": {
   "codemirror_mode": {
    "name": "ipython",
    "version": 3
   },
   "file_extension": ".py",
   "mimetype": "text/x-python",
   "name": "python",
   "nbconvert_exporter": "python",
   "pygments_lexer": "ipython3",
   "version": "3.13.5"
  }
 },
 "nbformat": 4,
 "nbformat_minor": 5
}
