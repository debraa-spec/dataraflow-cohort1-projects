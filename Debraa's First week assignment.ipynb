{
 "cells": [
  {
   "cell_type": "markdown",
   "id": "40ad6777-e9e8-4c5e-9b8f-4446315fc205",
   "metadata": {},
   "source": [
    "# Python Crash Course – Practice Materials  \n",
    "\n",
    "Welcome to your practice set! Below are **Tasks**, **Assignments**, and **Assessments** to help you solidify your Python skills and no use of **AI  !!!**.  \n",
    "\n",
    "## Tasks\n",
    "\n",
    "1. Write a Python program to print `\"Hello, World!\"`.\n",
    "2. Create a program that takes a user’s name and age as input, then prints:  \n",
    "   `\"Hello [name], you are [age] years old!\"`.\n",
    "3. Write a program to check whether a number entered by the user is even or odd.\n",
    "4. Create a program that prints the multiplication table of a number (from 1–12).\n",
    "5. Write a program that calculates the factorial of a number using a loop.\n",
    "6. Write a program that finds the largest number in a given list.\n",
    "7. Create a Python program that counts how many vowels are in a given string.\n",
    "8. Write a function that takes two numbers and returns their sum, difference, and product.\n",
    "9. Create a program that reverses a string without using slicing (`[::-1]`).\n",
    "10. Write a program that generates the first 10 numbers of the Fibonacci sequence.\n"
   ]
  },
  {
   "cell_type": "code",
   "execution_count": 3,
   "id": "bdbe2ea8-b21f-4f95-bae0-6f04e2bf5739",
   "metadata": {},
   "outputs": [
    {
     "name": "stdout",
     "output_type": "stream",
     "text": [
      "Hello, world!\n"
     ]
    }
   ],
   "source": [
    "print(\"Hello, world!\")"
   ]
  },
  {
   "cell_type": "code",
   "execution_count": 4,
   "id": "c053f5b7-0dda-4f75-9bcf-c646bb8aa834",
   "metadata": {},
   "outputs": [
    {
     "name": "stdout",
     "output_type": "stream",
     "text": [
      "Hello Deborah, you are 21 years old.\n"
     ]
    }
   ],
   "source": [
    "name = input(\"Enter your name: \")\n",
    "age = input(\"Enter your age: \")\n",
    "print(f\"Hello {name}, you are {age} years old.\")"
   ]
  },
  {
   "cell_type": "code",
   "execution_count": 3,
   "id": "d910f8eb-6936-48be-b2ea-a5434d366327",
   "metadata": {},
   "outputs": [
    {
     "name": "stdout",
     "output_type": "stream",
     "text": [
      "9 is odd.\n"
     ]
    }
   ],
   "source": [
    "number= int(input(\"Enter a number: \"))\n",
    "if number % 2==0:\n",
    "    print(number, \"is Even\")\n",
    "else:\n",
    "    print(number, \"is odd.\")"
   ]
  },
  {
   "cell_type": "code",
   "execution_count": 6,
   "id": "4085d0dc-c01b-48c9-8ffb-d1c725d58722",
   "metadata": {},
   "outputs": [
    {
     "name": "stdout",
     "output_type": "stream",
     "text": [
      "Multiplication table of 3\n",
      "3x 1= 3\n",
      "3x 2= 3\n",
      "3x 3= 3\n",
      "3x 4= 3\n",
      "3x 5= 3\n",
      "3x 6= 3\n",
      "3x 7= 3\n",
      "3x 8= 3\n",
      "3x 9= 3\n",
      "3x 10= 3\n",
      "3x 11= 3\n",
      "3x 12= 3\n"
     ]
    }
   ],
   "source": [
    "num=int(input(\"Enter a number: \"))\n",
    "print(f\"Multiplication table of {num}\")\n",
    "for i in range (1,13):\n",
    "    result=num*1\n",
    "    print(f\"{num}x {i}= {result}\")"
   ]
  },
  {
   "cell_type": "code",
   "execution_count": 7,
   "id": "08b938ab-39cd-4e89-9b10-fffa6df777c8",
   "metadata": {},
   "outputs": [
    {
     "name": "stdout",
     "output_type": "stream",
     "text": [
      "The factorial of 4 is 24.\n"
     ]
    }
   ],
   "source": [
    "num = int(input(\"Enter a number: \"))\n",
    "factorial= 1\n",
    "for i in range (1, num+1):\n",
    "    factorial = factorial *i\n",
    "print (f\"The factorial of {num} is {factorial}.\")"
   ]
  },
  {
   "cell_type": "code",
   "execution_count": 8,
   "id": "1531c31c-2888-4a2a-9cc1-4ff28ed14515",
   "metadata": {},
   "outputs": [
    {
     "name": "stdout",
     "output_type": "stream",
     "text": [
      "The largest number in the list is: 23210\n"
     ]
    }
   ],
   "source": [
    "numbers=[23,1084,278,23210,32,1,83]\n",
    "largest=numbers[0]\n",
    "for num in numbers:\n",
    "    if num>largest:\n",
    "        largest=num\n",
    "print(\"The largest number in the list is:\", largest)"
   ]
  },
  {
   "cell_type": "code",
   "execution_count": 9,
   "id": "75f91470-25ff-49d5-8d45-9f66e24c80c1",
   "metadata": {},
   "outputs": [
    {
     "name": "stdout",
     "output_type": "stream",
     "text": [
      "The number of vowels in this string is: 5\n"
     ]
    }
   ],
   "source": [
    "text= input(\"Enter a string:\")\n",
    "vowels= \"aeiouAEIOU\"\n",
    "count=0\n",
    "for char in text:\n",
    "    if char in vowels:\n",
    "        count +=1\n",
    "print(\"The number of vowels in this string is:\", count\n",
    "    )\n"
   ]
  },
  {
   "cell_type": "code",
   "execution_count": 10,
   "id": "76d31cce-1348-4d71-87aa-d20dd7835df0",
   "metadata": {},
   "outputs": [
    {
     "name": "stdout",
     "output_type": "stream",
     "text": [
      "The sum of the numbers is: -5.0\n",
      "The difference of the numbers is: 13.0\n",
      "The product of the numbers is: -36.0\n"
     ]
    }
   ],
   "source": [
    "num1= float(input(\"ENter the first number: \"))\n",
    "num2= float(input(\"ENter the second number: \"))\n",
    "sum=num1+num2\n",
    "difference=num1-num2\n",
    "product=num1*num2\n",
    "\n",
    "print(\"The sum of the numbers is:\", sum)\n",
    "print(\"The difference of the numbers is:\", difference)\n",
    "print(\"The product of the numbers is:\", product)"
   ]
  },
  {
   "cell_type": "code",
   "execution_count": 11,
   "id": "6e23f674-90d7-48f1-94b4-c8c640fcbb69",
   "metadata": {},
   "outputs": [
    {
     "name": "stdout",
     "output_type": "stream",
     "text": [
      "The reversed string is: looc os si nohtyp \n"
     ]
    }
   ],
   "source": [
    "text= input(\"Enter a string: \")\n",
    "reversed_text=\" \"\n",
    "for char in text:\n",
    "    reversed_text=char + reversed_text\n",
    "print(\"The reversed string is:\", reversed_text)"
   ]
  },
  {
   "cell_type": "code",
   "execution_count": 12,
   "id": "523ec9b9-0d9e-4859-b551-fb92d3a1903c",
   "metadata": {},
   "outputs": [
    {
     "name": "stdout",
     "output_type": "stream",
     "text": [
      "The first 10 numbers of the Fibonacci Sequence are:\n",
      "0\n",
      "1\n",
      "1\n",
      "2\n",
      "3\n",
      "5\n",
      "8\n",
      "13\n",
      "21\n",
      "34\n"
     ]
    }
   ],
   "source": [
    "a,b=0,1\n",
    "print(\"The first 10 numbers of the Fibonacci Sequence are:\")\n",
    "for i in range(10):\n",
    "    print(a )\n",
    "    a,b=b,a+b"
   ]
  },
  {
   "cell_type": "markdown",
   "id": "f7f0de60-0072-4523-9d91-e8367a2af434",
   "metadata": {},
   "source": [
    "## Assignments\n",
    "\n",
    "1. **Student Grades System**  \n",
    "   Write a program to accept marks for 5 subjects, calculate the average, and display the grade based on:  \n",
    "   - A: 80–100  \n",
    "   - B: 60–79  \n",
    "   - C: 40–59  \n",
    "   - F: < 40  \n",
    "\n",
    "2. **Simple Calculator**  \n",
    "   Build a calculator program that can perform addition, subtraction, multiplication, and division based on user input.\n",
    "\n",
    "3. **Shopping Cart**  \n",
    "   Create a program where a user can add items to a shopping cart (dictionary with item names and prices), then display the total cost.\n",
    "\n",
    "4. **Guessing Game**  \n",
    "   Write a program where the computer randomly selects a number between 1–20, and the user must guess it. Give hints if the guess is too high or too low.\n",
    "\n",
    "5. **File Handling**  \n",
    "   Write a program that accepts a list of student names from the user, saves them in a text file, and then reads and displays them.\n"
   ]
  },
  {
   "cell_type": "code",
   "execution_count": null,
   "id": "20b2871a-fb75-42c9-9341-c722a74cf819",
   "metadata": {},
   "outputs": [],
   "source": [
    "marks = []\n",
    "for i in range(5):\n",
    "    score = float(input(f\"Enter mark for subject {i+1}:\"))\n",
    "    marks.append(score)\n",
    "average= sum(marks)/5\n",
    "if 80 <= average <= 100:\n",
    "    grade = \"A\"\n",
    "elif 60 <= average <= 79:\n",
    "    grade = \"B\"\n",
    "elif 40 <= average <= 59:\n",
    "    grade = \"C\"\n",
    "else:\n",
    "    grade = \"F\"\n",
    "print(f\"Your average is {average:.2f} and your grade is {grade}. Thank you!\")\n",
    "\n",
    "if grade == \"A\":\n",
    "    print (\"Excellent!\")"
   ]
  },
  {
   "cell_type": "markdown",
   "id": "236838ea",
   "metadata": {},
   "source": []
  },
  {
   "cell_type": "code",
   "execution_count": null,
   "id": "c4886a53-1ffc-4e84-bc41-bd17abc5584a",
   "metadata": {},
   "outputs": [
    {
     "name": "stdout",
     "output_type": "stream",
     "text": [
      "Choose an operation: \n",
      "1. Addition (+)\n",
      "2. Subtraction (-)\n",
      "3. Multiplication (*)\n",
      "4. Division (/)\n",
      "The result of division is 12.798345453542654\n"
     ]
    }
   ],
   "source": [
    "num1 = float(input(\"Enter first number: \"))\n",
    "num2 = float(input(\"Enter second number: \"))\n",
    "print(\"Choose an operation: \")\n",
    "print(\"1. Addition (+)\")\n",
    "print(\"2. Subtraction (-)\")\n",
    "print(\"3. Multiplication (*)\")\n",
    "print(\"4. Division (/)\")\n",
    "choice = input(\"Enter your choice (1/2/3/4): \")\n",
    "if choice == \"1\":\n",
    "    result = num1 + num2\n",
    "    print(f\"The result of addition is {result}\")\n",
    "elif choice == \"2\":\n",
    "    result = num1 - num2\n",
    "    print(f\"The result of subtraction is {result}\")\n",
    "elif choice == \"3\":\n",
    "    result = num1 * num2\n",
    "    print(f\"The result of multiplication is {result}\")\n",
    "elif choice == \"4\":\n",
    "    result = num1 / num2 \n",
    "    print(f\"The result of division is {result}\")\n",
    "else:\n",
    "    print(\"Invalid choice. Please select 1, 2, 3, or 4.\")\n"
   ]
  },
  {
   "cell_type": "code",
   "execution_count": null,
   "id": "bfcce844-35e0-4dd3-9694-2e048e8f4f3e",
   "metadata": {},
   "outputs": [
    {
     "name": "stdout",
     "output_type": "stream",
     "text": [
      "\n",
      " Shopping Cart\n",
      "Apples: #1600.0\n",
      "Eggs: #2000.0\n",
      "Total cost = #3600.0\n"
     ]
    }
   ],
   "source": [
    "cart = {}\n",
    "while True:\n",
    "    item = input(\"Enter item name (or 'done' to finish): \")\n",
    "    if item.lower() == \"done\":\n",
    "        break\n",
    "    price = float(input(f\"Enter price for {item}: \"))\n",
    "    cart[item] = price\n",
    "total = sum(cart.values())\n",
    "print(\"\\n Shopping Cart\")\n",
    "for item, price in cart.items():\n",
    "    print(f\"{item}: #{price:}\")\n",
    "print(f\"Total cost = #{total:}\")"
   ]
  },
  {
   "cell_type": "code",
   "execution_count": null,
   "id": "b42861e7-16b5-49e4-bb38-5ffd3764d125",
   "metadata": {},
   "outputs": [
    {
     "name": "stdout",
     "output_type": "stream",
     "text": [
      "I'm thinking of a number between 1 and 20. Guess the number.\n",
      "Too low! Try again.\n",
      "Too high! Try again.\n",
      " Corrrect! The number was 16!\n"
     ]
    }
   ],
   "source": [
    "import random\n",
    "secret_number = random.randint(1,20)\n",
    "print(\"I'm thinking of a number between 1 and 20. Guess the number.\")\n",
    "while True:\n",
    "    guess = int(input(\"Enter your guess: \"))\n",
    "    if guess < secret_number:\n",
    "        print(\"Too low! Try again.\")\n",
    "    elif guess > secret_number:\n",
    "        print(\"Too high! Try again.\")\n",
    "    else:\n",
    "        print(f\" Corrrect! The number was {secret_number}!\")\n",
    "        break"
   ]
  },
  {
   "cell_type": "code",
   "execution_count": null,
   "id": "83a86a2e-7817-4809-8880-a2217154a11e",
   "metadata": {},
   "outputs": [
    {
     "name": "stdout",
     "output_type": "stream",
     "text": [
      "Enter student names (type 'done' when finished): \n",
      "\n",
      "Student names saved in file:\n",
      "Ajayi Rhoda\n",
      "Demilade Mubarak\n",
      "Oladele Ifeoluwa\n",
      "Toyese Bolanle\n",
      "Odewole Preciousgift\n",
      "Ojo Peace\n"
     ]
    }
   ],
   "source": [
    "students = []\n",
    "print(\"Enter student names (type 'done' when finished): \")\n",
    "while True:\n",
    "    name = input(\"Enter name: \")\n",
    "    if name.lower() == \"done\":\n",
    "        break\n",
    "    students.append(name)\n",
    "with open(\"students.txt\", \"w\") as file:\n",
    "    for student in students:\n",
    "        file.write(student + \"\\n\")\n",
    "print(\"\\nStudent names saved in file:\")\n",
    "with open(\"students.txt\", \"r\") as file:\n",
    "    for line in file:\n",
    "        print(line.strip())\n",
    "    "
   ]
  },
  {
   "cell_type": "markdown",
   "id": "7fedcbf0",
   "metadata": {},
   "source": []
  },
  {
   "cell_type": "markdown",
   "id": "08662d78",
   "metadata": {},
   "source": [
    "1. A list is mutable (can be changed) while a tuple is immutable (cannot be changed)."
   ]
  },
  {
   "cell_type": "markdown",
   "id": "66c75a97",
   "metadata": {},
   "source": [
    "2. It ensures that a Python script runs certain code only when executed directly, not when imported as a module."
   ]
  },
  {
   "cell_type": "code",
   "execution_count": 2,
   "id": "a291d9e5",
   "metadata": {},
   "outputs": [
    {
     "name": "stdout",
     "output_type": "stream",
     "text": [
      "After swapping: \n",
      "a = 5\n",
      "b = 2\n"
     ]
    }
   ],
   "source": [
    "a = int(input(\"Enter the frist number: \"))\n",
    "b = int(input(\"Enter the second number: \"))\n",
    "a, b = b, a\n",
    "print(\"After swapping: \")\n",
    "print(\"a =\", a)\n",
    "print(\"b =\", b)"
   ]
  },
  {
   "cell_type": "markdown",
   "id": "dbfc62c3",
   "metadata": {},
   "source": [
    "4. Python’s data types are categories of values that tell Python what kind of data is being stored, like numbers, text, or collections.\n",
    "\n",
    "For example,\n",
    "\n",
    "Integer → 5\n",
    "\n",
    "Float → 3.14\n",
    "\n",
    "String → \"Hello\"\n",
    "\n",
    "List → [1, 2, 3]\n",
    "\n",
    "Tuple → (1, 2, 3)\n",
    "\n",
    "Dictionary → {\"name\": \"Alice\"}\n",
    "\n",
    "Boolean → True or False"
   ]
  },
  {
   "cell_type": "code",
   "execution_count": 3,
   "id": "9d3430b6",
   "metadata": {},
   "outputs": [
    {
     "name": "stdout",
     "output_type": "stream",
     "text": [
      "1\n",
      "2\n",
      "Fizz\n",
      "4\n",
      "Buzz\n",
      "Fizz\n",
      "7\n",
      "8\n",
      "Fizz\n",
      "Buzz\n",
      "11\n",
      "Fizz\n",
      "13\n",
      "14\n",
      "FizzBuzz\n",
      "16\n",
      "17\n",
      "Fizz\n",
      "19\n",
      "Buzz\n",
      "Fizz\n",
      "22\n",
      "23\n",
      "Fizz\n",
      "Buzz\n",
      "26\n",
      "Fizz\n",
      "28\n",
      "29\n",
      "FizzBuzz\n",
      "31\n",
      "32\n",
      "Fizz\n",
      "34\n",
      "Buzz\n",
      "Fizz\n",
      "37\n",
      "38\n",
      "Fizz\n",
      "Buzz\n",
      "41\n",
      "Fizz\n",
      "43\n",
      "44\n",
      "FizzBuzz\n",
      "46\n",
      "47\n",
      "Fizz\n",
      "49\n",
      "Buzz\n"
     ]
    }
   ],
   "source": [
    "for i in range(1, 51):\n",
    "    if i % 3 == 0 and i % 5 == 0:\n",
    "        print(\"FizzBuzz\")\n",
    "    elif i % 3 == 0:\n",
    "        print(\"Fizz\")\n",
    "    elif i % 5 == 0:\n",
    "        print(\"Buzz\")\n",
    "    else:\n",
    "        print(i)"
   ]
  },
  {
   "cell_type": "markdown",
   "id": "a3a1ab41",
   "metadata": {},
   "source": [
    "6. A local variable is defined inside a function and can only be used there, while a global variable is defined outside all functions and can be used anywhere in the program."
   ]
  },
  {
   "cell_type": "code",
   "execution_count": 16,
   "id": "cd37fb18",
   "metadata": {},
   "outputs": [
    {
     "name": "stdout",
     "output_type": "stream",
     "text": [
      "Even numbers: [52, 70]\n"
     ]
    }
   ],
   "source": [
    "def get_even_numbers(numbers):\n",
    "    return [num for num in numbers if num % 2 == 0]\n",
    "\n",
    "user_input = input(\"Enter numbers separated by spaces: \")\n",
    "numbers_list = [int(x) for x in user_input.split()]\n",
    "\n",
    "even_numbers = get_even_numbers(numbers_list)\n",
    "print(\"Even numbers:\", even_numbers)"
   ]
  },
  {
   "cell_type": "markdown",
   "id": "4d24413a",
   "metadata": {},
   "source": [
    "8. == checks if two values are equal.\n",
    "\n",
    "is checks if two variables point to the exact same object in memory."
   ]
  },
  {
   "cell_type": "code",
   "execution_count": 13,
   "id": "648fa78f",
   "metadata": {},
   "outputs": [
    {
     "name": "stdout",
     "output_type": "stream",
     "text": [
      "Number of words: 4\n"
     ]
    }
   ],
   "source": [
    "text = input(\"Enter a text: \")\n",
    "words = text.split()\n",
    "count = 0\n",
    "\n",
    "for word in words:\n",
    "    count += 1\n",
    "\n",
    "print(\"Number of words:\", count)\n"
   ]
  },
  {
   "cell_type": "code",
   "execution_count": 17,
   "id": "d14e568a",
   "metadata": {},
   "outputs": [
    {
     "name": "stdout",
     "output_type": "stream",
     "text": [
      "Name: Alice\n",
      "Age: 20\n"
     ]
    }
   ],
   "source": [
    "#10. A Python dictionary is a collection of key-value pairs, where each key is unique and is used to access its value.\n",
    "\n",
    "student = {\"name\": \"Alice\", \"age\": 20, \"course\": \"Nursing\"}\n",
    "print(\"Name:\", student[\"name\"])\n",
    "print(\"Age:\", student[\"age\"])"
   ]
  },
  {
   "cell_type": "code",
   "execution_count": 18,
   "id": "066538a0",
   "metadata": {},
   "outputs": [
    {
     "name": "stdout",
     "output_type": "stream",
     "text": [
      "The second largest number is: 71\n"
     ]
    }
   ],
   "source": [
    "numbers = [int(x) for x in input(\"Enter numbers separated by spaces: \").split()]\n",
    "\n",
    "largest = second = float('-inf')\n",
    "\n",
    "for num in numbers:\n",
    "    if num > largest:\n",
    "        second = largest\n",
    "        largest = num\n",
    "    elif num > second and num != largest:\n",
    "        second = num\n",
    "\n",
    "if second == float('-inf'):\n",
    "    print(\"Not enough unique numbers to find the second largest.\")\n",
    "else:\n",
    "    print(\"The second largest number is:\", second)"
   ]
  },
  {
   "cell_type": "code",
   "execution_count": 20,
   "id": "e260f23d",
   "metadata": {},
   "outputs": [
    {
     "name": "stdout",
     "output_type": "stream",
     "text": [
      "1\n",
      "2\n",
      "3\n",
      "4\n",
      "5\n"
     ]
    }
   ],
   "source": [
    "# for loop repeats a block of code a specific number of times (usually iterating over a sequence).\n",
    "\n",
    "# while loop repeats a block of code as long as a condition is true.\n",
    "\n",
    "for i in range(1, 6):\n",
    "    print(i)\n"
   ]
  },
  {
   "cell_type": "code",
   "execution_count": 25,
   "id": "77601e23",
   "metadata": {},
   "outputs": [
    {
     "name": "stdout",
     "output_type": "stream",
     "text": [
      "1\n",
      "2\n",
      "3\n",
      "4\n",
      "5\n",
      "6\n",
      "7\n",
      "8\n",
      "9\n",
      "10\n",
      "11\n",
      "12\n",
      "13\n",
      "14\n"
     ]
    }
   ],
   "source": [
    "i = 1\n",
    "while i < 15:\n",
    "    print(i)\n",
    "    i += 1\n",
    "    \n",
    "    "
   ]
  },
  {
   "cell_type": "code",
   "execution_count": 26,
   "id": "3a9d46ce",
   "metadata": {},
   "outputs": [
    {
     "name": "stdout",
     "output_type": "stream",
     "text": [
      "Error: Cannot divide by zero!\n"
     ]
    }
   ],
   "source": [
    "#Exceptions in Python are errors that happen when your program is running.\n",
    "\n",
    "try:\n",
    "    num1 = int(input(\"Enter numerator: \"))\n",
    "    num2 = int(input(\"Enter denominator: \"))\n",
    "    result = num1 / num2\n",
    "    print(\"Result:\", result)\n",
    "except ZeroDivisionError:\n",
    "    print(\"Error: Cannot divide by zero!\")"
   ]
  },
  {
   "cell_type": "code",
   "execution_count": null,
   "id": "148f1d83",
   "metadata": {},
   "outputs": [
    {
     "name": "stdout",
     "output_type": "stream",
     "text": [
      "Not a palindrome\n"
     ]
    }
   ],
   "source": [
    "word = input(\"Enter a word: \")\n",
    "\n",
    "reverse = \"\"            \n",
    "for letter in word:    \n",
    "    reverse = letter + reverse   \n",
    "\n",
    "if word == reverse:  \n",
    "    print(\"Palindrome\")\n",
    "else:  \n",
    "    print(\"Not a palindrome\")"
   ]
  },
  {
   "cell_type": "code",
   "execution_count": null,
   "id": "42169366",
   "metadata": {},
   "outputs": [
    {
     "name": "stdout",
     "output_type": "stream",
     "text": [
      "4.0\n"
     ]
    }
   ],
   "source": [
    "# A Python module is a file that contains Python code that you can use in other programs.\n",
    "import math   \n",
    "print(math.sqrt(16))   "
   ]
  },
  {
   "cell_type": "markdown",
   "id": "1e054bca-f722-4139-9c6c-3972c17e7657",
   "metadata": {},
   "source": [
    "## Provide link to your publication"
   ]
  },
  {
   "cell_type": "markdown",
   "id": "3ad0293e",
   "metadata": {},
   "source": [
    "https://debraainternship.hashnode.dev/my-journey-through-week-1-of-python"
   ]
  },
  {
   "cell_type": "markdown",
   "id": "3f62d542",
   "metadata": {},
   "source": []
  }
 ],
 "metadata": {
  "kernelspec": {
   "display_name": "base",
   "language": "python",
   "name": "python3"
  },
  "language_info": {
   "codemirror_mode": {
    "name": "ipython",
    "version": 3
   },
   "file_extension": ".py",
   "mimetype": "text/x-python",
   "name": "python",
   "nbconvert_exporter": "python",
   "pygments_lexer": "ipython3",
   "version": "3.13.5"
  }
 },
 "nbformat": 4,
 "nbformat_minor": 5
}
